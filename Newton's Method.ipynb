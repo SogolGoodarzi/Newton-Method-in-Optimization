{
  "nbformat": 4,
  "nbformat_minor": 0,
  "metadata": {
    "colab": {
      "provenance": []
    },
    "kernelspec": {
      "name": "python3",
      "display_name": "Python 3"
    },
    "language_info": {
      "name": "python"
    }
  },
  "cells": [
    {
      "cell_type": "markdown",
      "source": [
        "# **Newton's Method in Optimization**"
      ],
      "metadata": {
        "id": "LTs_abySeOCk"
      }
    },
    {
      "cell_type": "code",
      "source": [
        "import numpy as np\n",
        "from math import sin, cos, pi\n",
        "x1 = 1\n",
        "x2 = 3\n",
        "x_k = np.array([[x1],[x2]])\n",
        "N = 1000\n",
        "f_current = 2*x1**2 + 2*x2**2 - 17*x2*cos(0.2*pi*x1) - x1*x2\n",
        "for i in range(N):\n",
        "    gradian = np.array([[4*x1 + 3.4*pi*x2*sin(0.2*pi*x1) - x2],[4*x2 - 17*cos(0.2*pi*x1) - x1]])\n",
        "    Hessian = np.matrix([[4 + 0.68*pi**2*x2*cos(0.2*pi*x1) , 3.4*pi*sin(0.2*pi*x1) - 1],[3.4*pi*sin(0.2*pi*x1) - 1 , 4]])\n",
        "    direction = (np.linalg.inv(Hessian)).dot(gradian)\n",
        "    x_k = x_k - direction\n",
        "    x1 = x_k[0,0]\n",
        "    x2 = x_k[1,0]\n",
        "    f_new = 2*x1**2 + 2*x2**2 - 17*x2*cos(0.2*pi*x1) - x1*x2\n",
        "        \n",
        "print(\"The minimum point of the cost function is:\\n x1 = {}\\n x2 = {}\".format(x1 , x2))\n",
        "print(\"The value of cost function in minimum point is:\\n {}\".format(f_new))"
      ],
      "metadata": {
        "id": "QQ0nucxLeT15",
        "colab": {
          "base_uri": "https://localhost:8080/"
        },
        "outputId": "a703648b-d27d-4f77-c6f9-182ffc027cd3"
      },
      "execution_count": null,
      "outputs": [
        {
          "output_type": "stream",
          "name": "stdout",
          "text": [
            "The minimum point of the cost function is:\n",
            " x1 = 0.13087466007249957\n",
            " x2 = 4.268357652256218\n",
            "The value of cost function in minimum point is:\n",
            " -36.40349774185023\n"
          ]
        }
      ]
    },
    {
      "cell_type": "code",
      "source": [
        "import pandas as pd\n",
        "stepsize = 0.5\n",
        "x1_list = np.arange(-5,5.5,stepsize)\n",
        "x2_list = np.arange(0,10.5,stepsize)\n",
        "distance = np.zeros([len(x1_list), len(x2_list)])\n",
        "N = 1000\n",
        "reference = -36.4\n",
        "for i1 in range(len(x1_list)):\n",
        "    for i2 in range(len(x2_list)):\n",
        "        x1 = x1_list[i1]\n",
        "        x2 = x2_list[i2]\n",
        "        x_k = np.array([[x1],[x2]])\n",
        "        for i in range(N):\n",
        "            gradian = np.array([[4*x1 + 3.4*pi*x2*sin(0.2*pi*x1) - x2],[4*x2 - 17*cos(0.2*pi*x1) - x1]])\n",
        "            Hessian = np.matrix([[4 + 0.68*pi**2*x2*cos(0.2*pi*x1) , 3.4*pi*sin(0.2*pi*x1) - 1],[3.4*pi*sin(0.2*pi*x1) - 1 , 4]])\n",
        "            direction = (np.linalg.inv(Hessian)).dot(gradian)\n",
        "            x_k = x_k - direction\n",
        "            x1 = x_k[0,0]\n",
        "            x2 = x_k[1,0]\n",
        "            f = 2*x1**2 + 2*x2**2 - 17*x2*cos(0.2*pi*x1) - x1*x2\n",
        "        distance[i1][i2] = abs(f - reference)"
      ],
      "metadata": {
        "id": "D0N4t99-eb47"
      },
      "execution_count": null,
      "outputs": []
    },
    {
      "cell_type": "code",
      "source": [
        "## Plotting:\n",
        "x1_close = []\n",
        "x2_close = []\n",
        "x1_far = []\n",
        "x2_far = []\n",
        "x1_farther = []\n",
        "x2_farther = []\n",
        "for i1 in range(len(x1_list)):\n",
        "    for i2 in range(len(x2_list)):\n",
        "        if distance[i1][i2] < 5:\n",
        "          x1_close.append(x1_list[i1])\n",
        "          x2_close.append(x2_list[i2])\n",
        "        elif distance[i1][i2] > 5 and distance[i1][i2] < 50:\n",
        "          x1_far.append(x1_list[i1])\n",
        "          x2_far.append(x2_list[i2])\n",
        "        elif distance[i1][i2] > 50:\n",
        "          x1_farther.append(x1_list[i1])\n",
        "          x2_farther.append(x2_list[i2])\n",
        "\n",
        "plt.figure(figsize=(10, 7))\n",
        "plt.scatter(x1_close,x2_close,marker = 'o',color = 'red')\n",
        "plt.scatter(x1_far,x2_far,marker = 'o',color = 'blue')\n",
        "plt.scatter(x1_farther,x2_farther,marker = 'o',color = 'yellow')\n",
        "plt.xlabel('x1')\n",
        "plt.ylabel('x2')\n",
        "plt.legend([\"close\" , \"far\" , \"farther\"])\n",
        "plt.title(\"Categorized Data\")\n",
        "plt.show()"
      ],
      "metadata": {
        "colab": {
          "base_uri": "https://localhost:8080/",
          "height": 458
        },
        "id": "ZxUiHEokzI7Y",
        "outputId": "4a5607af-316a-4562-c4e8-5629b6c0d5ec"
      },
      "execution_count": null,
      "outputs": [
        {
          "output_type": "display_data",
          "data": {
            "text/plain": [
              "<Figure size 720x504 with 1 Axes>"
            ],
            "image/png": "[encoded data removed]"
          },
          "metadata": {
            "needs_background": "light"
          }
        }
      ]
    }
  ]
}